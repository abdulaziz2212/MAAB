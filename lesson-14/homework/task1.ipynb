{
 "cells": [
  {
   "cell_type": "code",
   "execution_count": 3,
   "metadata": {},
   "outputs": [
    {
     "data": {
      "text/plain": [
       "\n",
       "<!DOCTYPE html>\n",
       "\n",
       "<html>\n",
       "<head>\n",
       "<title>Weather Forecast</title>\n",
       "</head>\n",
       "<body>\n",
       "<h4>5-Day Weather Forecast</h4>\n",
       "<table>\n",
       "<thead>\n",
       "<tr>\n",
       "<th>Day</th>\n",
       "<th>Temperature</th>\n",
       "<th>Condition</th>\n",
       "</tr>\n",
       "</thead>\n",
       "<tbody>\n",
       "<tr>\n",
       "<td>Monday</td>\n",
       "<td>25°C</td>\n",
       "<td>Sunny</td>\n",
       "</tr>\n",
       "<tr>\n",
       "<td>Tuesday</td>\n",
       "<td>22°C</td>\n",
       "<td>Cloudy</td>\n",
       "</tr>\n",
       "<tr>\n",
       "<td>Wednesday</td>\n",
       "<td>18°C</td>\n",
       "<td>Rainy</td>\n",
       "</tr>\n",
       "<tr>\n",
       "<td>Thursday</td>\n",
       "<td>20°C</td>\n",
       "<td>Partly Cloudy</td>\n",
       "</tr>\n",
       "<tr>\n",
       "<td>Friday</td>\n",
       "<td>30°C</td>\n",
       "<td>Sunny</td>\n",
       "</tr>\n",
       "</tbody>\n",
       "</table>\n",
       "</body>\n",
       "</html>"
      ]
     },
     "execution_count": 3,
     "metadata": {},
     "output_type": "execute_result"
    }
   ],
   "source": [
    "from bs4 import BeautifulSoup\n",
    "\n",
    "html_doc = \"\"\"\n",
    "<!DOCTYPE html>\n",
    "<html>\n",
    "<head>\n",
    "    <title>Weather Forecast</title>\n",
    "</head>\n",
    "<body>\n",
    "    <h4>5-Day Weather Forecast</h4>\n",
    "    <table>\n",
    "        <thead>\n",
    "            <tr>\n",
    "                <th>Day</th>\n",
    "                <th>Temperature</th>\n",
    "                <th>Condition</th>\n",
    "            </tr>\n",
    "        </thead>\n",
    "        <tbody>\n",
    "            <tr>\n",
    "                <td>Monday</td>\n",
    "                <td>25°C</td>\n",
    "                <td>Sunny</td>\n",
    "            </tr>\n",
    "            <tr>\n",
    "                <td>Tuesday</td>\n",
    "                <td>22°C</td>\n",
    "                <td>Cloudy</td>\n",
    "            </tr>\n",
    "            <tr>\n",
    "                <td>Wednesday</td>\n",
    "                <td>18°C</td>\n",
    "                <td>Rainy</td>\n",
    "            </tr>\n",
    "            <tr>\n",
    "                <td>Thursday</td>\n",
    "                <td>20°C</td>\n",
    "                <td>Partly Cloudy</td>\n",
    "            </tr>\n",
    "            <tr>\n",
    "                <td>Friday</td>\n",
    "                <td>30°C</td>\n",
    "                <td>Sunny</td>\n",
    "            </tr>\n",
    "        </tbody>\n",
    "    </table>\n",
    "\n",
    "</body>\n",
    "</html>\n",
    "\"\"\"\n",
    "\n",
    "soup = BeautifulSoup(html_doc, 'html.parser')\n",
    "soup"
   ]
  },
  {
   "cell_type": "code",
   "execution_count": 8,
   "metadata": {},
   "outputs": [
    {
     "data": {
      "text/plain": [
       "[<tr>\n",
       " <td>Monday</td>\n",
       " <td>25°C</td>\n",
       " <td>Sunny</td>\n",
       " </tr>,\n",
       " <tr>\n",
       " <td>Tuesday</td>\n",
       " <td>22°C</td>\n",
       " <td>Cloudy</td>\n",
       " </tr>,\n",
       " <tr>\n",
       " <td>Wednesday</td>\n",
       " <td>18°C</td>\n",
       " <td>Rainy</td>\n",
       " </tr>,\n",
       " <tr>\n",
       " <td>Thursday</td>\n",
       " <td>20°C</td>\n",
       " <td>Partly Cloudy</td>\n",
       " </tr>,\n",
       " <tr>\n",
       " <td>Friday</td>\n",
       " <td>30°C</td>\n",
       " <td>Sunny</td>\n",
       " </tr>]"
      ]
     },
     "execution_count": 8,
     "metadata": {},
     "output_type": "execute_result"
    }
   ],
   "source": [
    "table = soup.find('tbody')\n",
    "rows = table.find_all('tr')\n",
    "\n",
    "rows\n",
    "\n"
   ]
  },
  {
   "cell_type": "code",
   "execution_count": 32,
   "metadata": {},
   "outputs": [
    {
     "data": {
      "text/plain": [
       "[{'day': 'Monday', 'temp': '25°C', 'description': 'Sunny'},\n",
       " {'day': 'Tuesday', 'temp': '22°C', 'description': 'Cloudy'},\n",
       " {'day': 'Wednesday', 'temp': '18°C', 'description': 'Rainy'},\n",
       " {'day': 'Thursday', 'temp': '20°C', 'description': 'Partly Cloudy'},\n",
       " {'day': 'Friday', 'temp': '30°C', 'description': 'Sunny'}]"
      ]
     },
     "execution_count": 32,
     "metadata": {},
     "output_type": "execute_result"
    }
   ],
   "source": [
    "forecast = []\n",
    "for row in rows:\n",
    "    cols = row.find_all('td')\n",
    "    day = cols[0].text.strip()\n",
    "    temp = cols[1].text.strip()\n",
    "    description = cols[2].text.strip()\n",
    "    forecast.append({'day': day, 'temp': temp, 'description': description})\n",
    "\n",
    "forecast"
   ]
  },
  {
   "cell_type": "code",
   "execution_count": 33,
   "metadata": {},
   "outputs": [
    {
     "name": "stdout",
     "output_type": "stream",
     "text": [
      "dict_values(['Monday', '25°C', 'Sunny'])\n",
      "dict_values(['Tuesday', '22°C', 'Cloudy'])\n",
      "dict_values(['Wednesday', '18°C', 'Rainy'])\n",
      "dict_values(['Thursday', '20°C', 'Partly Cloudy'])\n",
      "dict_values(['Friday', '30°C', 'Sunny'])\n"
     ]
    }
   ],
   "source": [
    "for weather in forecast:\n",
    "    print(weather.values())"
   ]
  },
  {
   "cell_type": "code",
   "execution_count": 53,
   "metadata": {},
   "outputs": [
    {
     "name": "stdout",
     "output_type": "stream",
     "text": [
      "Highest temperature is on: Friday\n",
      "Sunny days are:\n",
      "{'day': 'Monday', 'temp': '25°C', 'description': 'Sunny'}\n",
      "{'day': 'Friday', 'temp': '30°C', 'description': 'Sunny'}\n"
     ]
    }
   ],
   "source": [
    "def number_extract(line):\n",
    "    number =''\n",
    "    for char in line :\n",
    "        if char.isdigit():\n",
    "            number += char\n",
    "    return int(number) if number else None\n",
    "\n",
    "\n",
    "int_temperatures = [number_extract(day['temp']) for day in forecast]\n",
    "max_temperature_day = [day['day'] for day in forecast if number_extract(day['temp'])==max(int_temperatures)]\n",
    "\n",
    "print(f\"Highest temperature is on: {', '.join(max_temperature_day)}\")\n",
    "\n",
    "sunny_days= [day for day in forecast if day['description']=='Sunny']\n",
    "print('Sunny days are:')\n",
    "for sunny_day in sunny_days:\n",
    "    print(sunny_day)\n",
    "\n",
    "temperatures = [day['temp'] for day in forecast]\n",
    "\n"
   ]
  },
  {
   "cell_type": "code",
   "execution_count": null,
   "metadata": {},
   "outputs": [],
   "source": []
  },
  {
   "cell_type": "code",
   "execution_count": null,
   "metadata": {},
   "outputs": [],
   "source": []
  }
 ],
 "metadata": {
  "kernelspec": {
   "display_name": "Python 3",
   "language": "python",
   "name": "python3"
  },
  "language_info": {
   "codemirror_mode": {
    "name": "ipython",
    "version": 3
   },
   "file_extension": ".py",
   "mimetype": "text/x-python",
   "name": "python",
   "nbconvert_exporter": "python",
   "pygments_lexer": "ipython3",
   "version": "3.11.0"
  }
 },
 "nbformat": 4,
 "nbformat_minor": 2
}
