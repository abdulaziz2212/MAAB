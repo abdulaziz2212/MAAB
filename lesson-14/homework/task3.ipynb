{
 "cells": [
  {
   "cell_type": "code",
   "execution_count": 31,
   "metadata": {},
   "outputs": [],
   "source": [
    "from selenium import webdriver\n",
    "from selenium.webdriver.chrome.options import Options\n",
    "from selenium.webdriver.chrome.service import Service\n",
    "from selenium.webdriver.common.keys import Keys \n",
    "from selenium.webdriver.common.by import By\n",
    "import time\n",
    "import json"
   ]
  },
  {
   "cell_type": "code",
   "execution_count": 40,
   "metadata": {},
   "outputs": [
    {
     "name": "stdout",
     "output_type": "stream",
     "text": [
      "No more pages or error: Message: element not interactable\n",
      "  (Session info: chrome=132.0.6834.196)\n",
      "Stacktrace:\n",
      "\tGetHandleVerifier [0x00007FF74B3B02F5+28725]\n",
      "\t(No symbol) [0x00007FF74B312AE0]\n",
      "\t(No symbol) [0x00007FF74B1A4F39]\n",
      "\t(No symbol) [0x00007FF74B1FA7D4]\n",
      "\t(No symbol) [0x00007FF74B1EC6B4]\n",
      "\t(No symbol) [0x00007FF74B21FFAA]\n",
      "\t(No symbol) [0x00007FF74B1EBF86]\n",
      "\t(No symbol) [0x00007FF74B2201C0]\n",
      "\t(No symbol) [0x00007FF74B240181]\n",
      "\t(No symbol) [0x00007FF74B21FD53]\n",
      "\t(No symbol) [0x00007FF74B1EA0E3]\n",
      "\t(No symbol) [0x00007FF74B1EB471]\n",
      "\tGetHandleVerifier [0x00007FF74B6DF30D+3366989]\n",
      "\tGetHandleVerifier [0x00007FF74B6F12F0+3440688]\n",
      "\tGetHandleVerifier [0x00007FF74B6E78FD+3401277]\n",
      "\tGetHandleVerifier [0x00007FF74B47AAAB+858091]\n",
      "\t(No symbol) [0x00007FF74B31E74F]\n",
      "\t(No symbol) [0x00007FF74B31A304]\n",
      "\t(No symbol) [0x00007FF74B31A49D]\n",
      "\t(No symbol) [0x00007FF74B308B69]\n",
      "\tBaseThreadInitThunk [0x00007FF95C68E8D7+23]\n",
      "\tRtlUserThreadStart [0x00007FF95DAFFBCC+44]\n",
      "\n"
     ]
    }
   ],
   "source": [
    "# Set up the WebDriver\n",
    "driver = webdriver.Chrome()\n",
    "\n",
    "# Open the website\n",
    "driver.get(\"https://www.demoblaze.com\")\n",
    "\n",
    "# Wait for the page to load\n",
    "time.sleep(3)\n",
    "\n",
    "# Find the Laptops button and click it\n",
    "laptops_button = driver.find_element(By.XPATH, \"//a[text()='Laptops']\")\n",
    "laptops_button.click()\n",
    "\n",
    "\n",
    "#click on the next button\n",
    "\n",
    "time.sleep(2)\n",
    "laptops = []\n",
    "def extract():\n",
    "    items = driver.find_elements(By.CLASS_NAME, 'card-block')\n",
    "    for item in items:\n",
    "        try:\n",
    "            title = item.find_element(By.CLASS_NAME, 'card-title').text\n",
    "            price = item.find_element(By.TAG_NAME, 'h5').text\n",
    "            description = item.find_element(By.CLASS_NAME, 'card-text').text\n",
    "            laptops.append({\"name\":title, \"price\":price, \"description\": description})\n",
    "    \n",
    "        except Exception as e:\n",
    "                print(f\"Skipping an item due to error: {e}\")\n",
    "\n",
    "extract()\n",
    "while True:\n",
    "    try:\n",
    "        next_button = driver.find_element(By.ID, 'next2')\n",
    "        next_button.click()\n",
    "        time.sleep(2)  # Give time for new items to load\n",
    "        extract()  # Extract new items\n",
    "    except Exception as e:\n",
    "        print(\"No more pages or error:\", e)\n",
    "        break  # Stop if no more pages\n",
    "\n",
    "# Save data to JSON\n",
    "with open(\"laptops.json\", \"w\", encoding=\"utf-8\") as file:\n",
    "    json.dump(laptops, file, indent=4)\n",
    "\n"
   ]
  },
  {
   "cell_type": "code",
   "execution_count": null,
   "metadata": {},
   "outputs": [],
   "source": [
    "\n"
   ]
  }
 ],
 "metadata": {
  "kernelspec": {
   "display_name": "venv",
   "language": "python",
   "name": "python3"
  },
  "language_info": {
   "codemirror_mode": {
    "name": "ipython",
    "version": 3
   },
   "file_extension": ".py",
   "mimetype": "text/x-python",
   "name": "python",
   "nbconvert_exporter": "python",
   "pygments_lexer": "ipython3",
   "version": "3.11.0"
  }
 },
 "nbformat": 4,
 "nbformat_minor": 2
}
