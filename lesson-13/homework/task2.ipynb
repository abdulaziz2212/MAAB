{
 "cells": [
  {
   "cell_type": "code",
   "execution_count": 24,
   "metadata": {},
   "outputs": [],
   "source": [
    "import sqlite3\n",
    "\n",
    "#create a table Books\n",
    "with sqlite3.connect(\"library.db\") as connection:\n",
    "\n",
    "    cursor=connection.cursor()\n",
    "\n",
    "    create = \"\"\" \n",
    "        DROP Table if exists Books;\n",
    "\n",
    "        Create Table Books(\n",
    "        Title TEXT,\n",
    "        Author TEXT,\n",
    "        Year_Published INT,\n",
    "        Genre TEXT\n",
    "        );\n",
    "    \"\"\"\n",
    "    cursor.executescript(create)\n",
    "    connection.commit()\n",
    "    cursor.close()"
   ]
  },
  {
   "cell_type": "code",
   "execution_count": 25,
   "metadata": {},
   "outputs": [],
   "source": [
    "#insert Data\n",
    "with sqlite3.connect('library.db') as connection:\n",
    "    cursor = connection.cursor()\n",
    "\n",
    "    insert = \"\"\" \n",
    "            INSERT INTO Books values\n",
    "            (\"To Kill a Mockingbird\",\"Harper Lee\", 1960, \"Fiction\"),\n",
    "            (\"1984\", \"George Orwell\", 1949, \"Dystopian\"),\n",
    "            (\"The Great Gatsby\", \"F. Scott Fitzgerald\", 1925, \"Classic\");\n",
    "            \"\"\"\n",
    "    cursor.executescript(insert)\n",
    "\n",
    "    connection.commit()\n",
    "    cursor.close()\n",
    "    "
   ]
  },
  {
   "cell_type": "code",
   "execution_count": 26,
   "metadata": {},
   "outputs": [],
   "source": [
    "#Update data\n",
    "'''Update the Year_Published of 1984 to 1950.'''\n",
    "\n",
    "with sqlite3.connect('library.db') as con:\n",
    "    cursor = con.cursor()\n",
    "    query =\"\"\" \n",
    "        UPDATE Books\n",
    "        SET Year_Published = ?\n",
    "        WHERE Title = ?\n",
    "    \"\"\"\n",
    "new_year = 1950\n",
    "title = '1984'\n",
    "\n",
    "cursor.execute(query,(new_year,title))\n",
    "\n",
    "con.commit()\n",
    "cursor.close()"
   ]
  },
  {
   "cell_type": "code",
   "execution_count": 27,
   "metadata": {},
   "outputs": [
    {
     "name": "stdout",
     "output_type": "stream",
     "text": [
      "Title : 1984, Author: George Orwell\n"
     ]
    }
   ],
   "source": [
    "'''4.Retrieve and display the Title and Author of all books where the Genre is Dystopian.'''\n",
    "with sqlite3.connect('library.db') as con:\n",
    "    cursor = con.cursor()\n",
    "    query =\"\"\" \n",
    "            SELECT  Title, Author\n",
    "            FROM Books\n",
    "            WHERE Genre = ?\n",
    "    \"\"\"\n",
    "    genre = 'Dystopian'\n",
    "\n",
    "    cursor.execute(query,(genre,))\n",
    "\n",
    "    data = cursor.fetchall()\n",
    "\n",
    "    for row in data:\n",
    "        print(f\"Title : {row[0]}, Author: {row[1]}\")\n",
    "\n",
    "    \n",
    "    cursor.close()\n",
    "\n"
   ]
  },
  {
   "cell_type": "code",
   "execution_count": 28,
   "metadata": {},
   "outputs": [],
   "source": [
    "'''Remove all books published before the year 1950 from the table.'''\n",
    "with sqlite3.connect('library.db') as con:\n",
    "    cursor = con.cursor()\n",
    "    query =\"\"\" \n",
    "            DELETE \n",
    "            FROM Books\n",
    "            WHERE Year_published < 1950\n",
    "    \"\"\"\n",
    "\n",
    "    cursor.execute(query)\n",
    "    con.commit()\n",
    "\n",
    "    cursor.close()"
   ]
  },
  {
   "cell_type": "code",
   "execution_count": 29,
   "metadata": {},
   "outputs": [],
   "source": [
    "'''Add a new column called Rating to the Books table and update the data with the following values:'''\n",
    "with sqlite3.connect('library.db') as con:\n",
    "    cursor = con.cursor()\n",
    "    add =\"\"\" \n",
    "            ALTER TABLE Books\n",
    "            ADD COLUMN Rating;\n",
    "        \"\"\"\n",
    "    update = \"\"\"        \n",
    "            UPDATE Books\n",
    "            SET Rating = ?\n",
    "            Where Title = ?\n",
    "    \"\"\"\n",
    "\n",
    "    title1 = \"To Kill a Mockingbird\"\n",
    "    rating1 = 4.8\n",
    "\n",
    "    title2 = \"1984\"\n",
    "    rating2 = 4.7\n",
    "\n",
    "    title3 = 'The Great Gatsby'\n",
    "    rating3 = 4.5\n",
    "\n",
    "    cursor.execute(add)\n",
    "\n",
    "    cursor.execute(update,(rating1,title1))\n",
    "    cursor.execute(update,(rating2,title2))\n",
    "    cursor.execute(update,(rating3,title3))\n",
    "\n",
    "    con.commit()\n",
    "    cursor.close()\n",
    "\n"
   ]
  },
  {
   "cell_type": "code",
   "execution_count": 30,
   "metadata": {},
   "outputs": [
    {
     "name": "stdout",
     "output_type": "stream",
     "text": [
      "Title: 1984\n",
      "Author: George Orwell\n",
      "Year Published: 1950\n",
      "Genre: Dystopian\n",
      "Rating: 4.7\n",
      "------------------------------\n",
      "Title: To Kill a Mockingbird\n",
      "Author: Harper Lee\n",
      "Year Published: 1960\n",
      "Genre: Fiction\n",
      "Rating: 4.8\n",
      "------------------------------\n"
     ]
    }
   ],
   "source": [
    "'''Retrieve all books sorted by their Year_Published in ascending order.'''\n",
    "\n",
    "with sqlite3.connect('library.db') as con:\n",
    "    cursor = con.cursor()\n",
    "\n",
    "    query = \"\"\" \n",
    "        SELECT *\n",
    "        FROM Books\n",
    "        ORDER BY Year_Published\n",
    "    \"\"\"\n",
    "    cursor.execute(query)\n",
    "\n",
    "    books = cursor.fetchall()\n",
    "\n",
    "    for book in books:\n",
    "        title, author, year_published, genre, rating = book\n",
    "        print(f\"Title: {title}\\nAuthor: {author}\\nYear Published: {year_published}\\nGenre: {genre}\\nRating: {rating}\\n{'-'*30}\")\n",
    "    \n",
    "    cursor.close()\n",
    "\n",
    "    \n"
   ]
  },
  {
   "cell_type": "code",
   "execution_count": null,
   "metadata": {},
   "outputs": [],
   "source": []
  }
 ],
 "metadata": {
  "kernelspec": {
   "display_name": "Python 3",
   "language": "python",
   "name": "python3"
  },
  "language_info": {
   "codemirror_mode": {
    "name": "ipython",
    "version": 3
   },
   "file_extension": ".py",
   "mimetype": "text/x-python",
   "name": "python",
   "nbconvert_exporter": "python",
   "pygments_lexer": "ipython3",
   "version": "3.11.0"
  }
 },
 "nbformat": 4,
 "nbformat_minor": 2
}
