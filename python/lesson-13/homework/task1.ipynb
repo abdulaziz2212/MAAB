{
 "cells": [
  {
   "cell_type": "code",
   "execution_count": 1,
   "metadata": {},
   "outputs": [],
   "source": [
    "import sqlite3\n",
    "\n",
    "with sqlite3.connect('roster.db') as connection:\n",
    "    cursor = connection.cursor()\n",
    "    #create a table\n",
    "    create = \"\"\"\n",
    "    Drop table if exists Roster;\n",
    "    \n",
    "    Create table Roster(\n",
    "    Name text, \n",
    "    Species text, \n",
    "    Age int\n",
    "    );\n",
    "    \"\"\"\n",
    "\n",
    "    #insertion into a table\n",
    "\n",
    "    insert= \"\"\"\n",
    "    Insert into Roster values\n",
    "    ('Benjamin Sisko', \"Human\", 40),\n",
    "    (\"Jadzia Dax\", \"Trill\" , 300),\n",
    "    (\"Kira Nerys\", \"Bajoran\", 29);\n",
    "    \n",
    "    \"\"\"\n",
    "    #used executescript to execute several scripts simultanously\n",
    "\n",
    "    cursor.executescript(create)\n",
    "    cursor.executescript(insert)\n",
    "\n",
    "    #commit all changes\n",
    "    connection.commit()\n",
    "\n",
    "    #close the cursor\n",
    "    cursor.close() "
   ]
  },
  {
   "cell_type": "code",
   "execution_count": 2,
   "metadata": {},
   "outputs": [
    {
     "name": "stdout",
     "output_type": "stream",
     "text": [
      "Record Updated successfully!\n"
     ]
    }
   ],
   "source": [
    "#update query\n",
    "\n",
    "with sqlite3.connect('roster.db') as connection:\n",
    "    cursor= connection.cursor()\n",
    "    #setting '?' instead of actual names to prevent sql injection attack\n",
    "    update = \"\"\"UPDATE Roster\n",
    "              SET name=?\n",
    "              WHERE Name=? \n",
    "\n",
    "    \"\"\"\n",
    "    #actual values\n",
    "    new_name= 'Ezri Dax'\n",
    "    old_name = \"Jadzia Dax\"\n",
    "\n",
    "    #exute a query\n",
    "    cursor.execute(update,(new_name,old_name))\n",
    "\n",
    "    #save all changes\n",
    "    connection.commit()\n",
    "\n",
    "    #display message\n",
    "    print(\"Record Updated successfully!\")\n",
    "\n",
    "    #close the cursor\n",
    "    cursor.close()\n",
    "\n"
   ]
  },
  {
   "cell_type": "code",
   "execution_count": 3,
   "metadata": {},
   "outputs": [
    {
     "name": "stdout",
     "output_type": "stream",
     "text": [
      "First name: Kira Nerys, Age: 29\n"
     ]
    }
   ],
   "source": [
    "#4. Query Data\n",
    "\n",
    "with sqlite3.connect('roster.db') as con:\n",
    "    \"\"\"Retrieve and display the Name and Age of all characters where the Species is Bajoran.\"\"\"\n",
    "    cursor=con.cursor()\n",
    "\n",
    "    query=\"\"\" \n",
    "        SELECT Name, Age\n",
    "        FROM Roster\n",
    "        WHERE Species = ?;\n",
    "        \"\"\"\n",
    "    species = 'Bajoran'\n",
    "    \n",
    "    data = cursor.execute(query,(species,))\n",
    "\n",
    "    #fetching all data\n",
    "    rows = data.fetchall()\n",
    "\n",
    "    for row in rows:\n",
    "        print(f\"First name: {row[0]}, Age: {row[1]}\")\n",
    "\n",
    "    #close the cursor\n",
    "    cursor.close()\n",
    "\n"
   ]
  },
  {
   "cell_type": "code",
   "execution_count": 4,
   "metadata": {},
   "outputs": [
    {
     "name": "stdout",
     "output_type": "stream",
     "text": [
      "Record deleted successfully\n"
     ]
    }
   ],
   "source": [
    "#5.Delete a data\n",
    "\n",
    "with sqlite3.connect('roster.db') as con:\n",
    "    cursor=con.cursor()\n",
    "\n",
    "    \"\"\" Remove all characters aged over 100 years from the table.\"\"\"\n",
    "\n",
    "    delete = \"\"\"\n",
    "            DELETE FROM Roster\n",
    "            Where Age > ?\n",
    "    \"\"\"\n",
    "\n",
    "    remove_age = 100\n",
    "\n",
    "    cursor.execute(delete, (remove_age,))\n",
    "\n",
    "    con.commit()\n",
    "    print(\"Record deleted successfully\")\n",
    "\n",
    "    cursor.close()\n"
   ]
  },
  {
   "cell_type": "code",
   "execution_count": 5,
   "metadata": {},
   "outputs": [],
   "source": [
    "#Add new column\n",
    "\n",
    "with sqlite3.connect('roster.db') as connection:\n",
    "    cursor = connection.cursor()\n",
    "\n",
    "    add_column_query = \"\"\" \n",
    "            ALTER TABLE Roster\n",
    "            ADD COLUMN Rank TEXT\n",
    "    \"\"\"\n",
    "\n",
    "    cursor.execute(add_column_query)\n",
    "\n",
    "    update_query = \"\"\" \n",
    "                UPDATE Roster  \n",
    "                SET Rank = ?\n",
    "                WHERE Name =?;\n",
    "                \"\"\"\n",
    "    \n",
    "    rank1='Captain'\n",
    "    name1='Benjamin Sisko'\n",
    "\n",
    "    rank2 = 'Lieutenant'\n",
    "    name2 = 'Ezri Dax'\t\n",
    "\n",
    "    rank3 = 'Major'\n",
    "    name3 = 'Kira Nerys'\n",
    "\n",
    "    cursor.execute(update_query,(rank1,name1))\n",
    "    cursor.execute(update_query,(rank2,name2))\n",
    "    cursor.execute(update_query,(rank3,name3))\n",
    "\n",
    "    connection.commit()\n",
    "\n",
    "    cursor.close()"
   ]
  },
  {
   "cell_type": "code",
   "execution_count": 6,
   "metadata": {},
   "outputs": [
    {
     "name": "stdout",
     "output_type": "stream",
     "text": [
      "Name: Benjamin Sisko, Species: Human, Age: 40, Rank: Captain \n",
      "Name: Kira Nerys, Species: Bajoran, Age: 29, Rank: Major \n"
     ]
    }
   ],
   "source": [
    "#7.Retrieve data\n",
    "\n",
    "with sqlite3.connect('roster.db') as c:\n",
    "    cursor = c.cursor()\n",
    "    ''' Retrieve all characters sorted by their Age in descending order.'''\n",
    "\n",
    "    query =\"\"\" \n",
    "            SELECT * \n",
    "            FROM Roster\n",
    "            ORDER BY Age DESC\n",
    "        \"\"\"\n",
    "    \n",
    "    cursor.execute(query)\n",
    "    data=cursor.fetchall()\n",
    "\n",
    "    for row in data:\n",
    "        print(f\"Name: {row[0]}, Species: {row[1]}, Age: {row[2]}, Rank: {row[3]} \" )\n",
    "\n",
    "    cursor.close()\n",
    "\n",
    "    \n"
   ]
  },
  {
   "cell_type": "code",
   "execution_count": null,
   "metadata": {},
   "outputs": [],
   "source": []
  }
 ],
 "metadata": {
  "kernelspec": {
   "display_name": "Python 3",
   "language": "python",
   "name": "python3"
  },
  "language_info": {
   "codemirror_mode": {
    "name": "ipython",
    "version": 3
   },
   "file_extension": ".py",
   "mimetype": "text/x-python",
   "name": "python",
   "nbconvert_exporter": "python",
   "pygments_lexer": "ipython3",
   "version": "3.11.0"
  }
 },
 "nbformat": 4,
 "nbformat_minor": 2
}
