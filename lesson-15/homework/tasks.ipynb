{
 "cells": [
  {
   "cell_type": "code",
   "execution_count": 8,
   "metadata": {},
   "outputs": [],
   "source": [
    "import numpy as np"
   ]
  },
  {
   "cell_type": "markdown",
   "metadata": {},
   "source": [
    "Create a vector with values ranging from 10 to 49."
   ]
  },
  {
   "cell_type": "code",
   "execution_count": 111,
   "metadata": {},
   "outputs": [
    {
     "data": {
      "text/plain": [
       "array([10, 11, 12, 13, 14, 15, 16, 17, 18, 19, 20, 21, 22, 23, 24, 25, 26,\n",
       "       27, 28, 29, 30, 31, 32, 33, 34, 35, 36, 37, 38, 39, 40, 41, 42, 43,\n",
       "       44, 45, 46, 47, 48, 49])"
      ]
     },
     "execution_count": 111,
     "metadata": {},
     "output_type": "execute_result"
    }
   ],
   "source": [
    "vector=np.arange(10,50)\n",
    "vector"
   ]
  },
  {
   "cell_type": "markdown",
   "metadata": {},
   "source": [
    "Create a 3x3 matrix with values ranging from 0 to 8.\n"
   ]
  },
  {
   "cell_type": "code",
   "execution_count": 14,
   "metadata": {},
   "outputs": [
    {
     "data": {
      "text/plain": [
       "array([[0, 1, 2],\n",
       "       [3, 4, 5],\n",
       "       [6, 7, 8]])"
      ]
     },
     "execution_count": 14,
     "metadata": {},
     "output_type": "execute_result"
    }
   ],
   "source": [
    "matrix=np.array(np.arange(0,9).reshape(3,3))\n",
    "matrix"
   ]
  },
  {
   "cell_type": "markdown",
   "metadata": {},
   "source": [
    "Create a 3x3 identity matrix.\n"
   ]
  },
  {
   "cell_type": "code",
   "execution_count": 17,
   "metadata": {},
   "outputs": [
    {
     "data": {
      "text/plain": [
       "array([[1, 0, 0],\n",
       "       [0, 1, 0],\n",
       "       [0, 0, 1]])"
      ]
     },
     "execution_count": 17,
     "metadata": {},
     "output_type": "execute_result"
    }
   ],
   "source": [
    "id_matrix=np.eye(3,3,dtype=int)\n",
    "id_matrix"
   ]
  },
  {
   "cell_type": "markdown",
   "metadata": {},
   "source": [
    "Create a 3x3x3 array with random values.\n"
   ]
  },
  {
   "cell_type": "code",
   "execution_count": 22,
   "metadata": {},
   "outputs": [
    {
     "data": {
      "text/plain": [
       "array([[[-1.17617219, -2.0538075 , -0.94766111],\n",
       "        [-0.90353546,  0.82259978,  0.13487513],\n",
       "        [ 0.6811906 ,  0.55139791,  1.27676885]],\n",
       "\n",
       "       [[-0.64615907, -0.16466021,  1.12908096],\n",
       "        [ 1.60749406,  1.4594745 , -0.16661357],\n",
       "        [ 1.68668062, -0.31802526, -0.56031584]],\n",
       "\n",
       "       [[ 0.00237695, -1.89543648,  1.13902114],\n",
       "        [-0.33908033,  0.52547399,  0.15706299],\n",
       "        [-1.14706406, -0.0242247 ,  0.75025513]]])"
      ]
     },
     "execution_count": 22,
     "metadata": {},
     "output_type": "execute_result"
    }
   ],
   "source": [
    "arr=np.array(np.random.randn(3,3,3))\n",
    "arr\n"
   ]
  },
  {
   "cell_type": "markdown",
   "metadata": {},
   "source": [
    "Create a 10x10 array with random values and find the minimum and maximum values.\n"
   ]
  },
  {
   "cell_type": "code",
   "execution_count": 38,
   "metadata": {},
   "outputs": [
    {
     "name": "stdout",
     "output_type": "stream",
     "text": [
      "[[ 75  55  99]\n",
      " [-38 -43  63]\n",
      " [ 10  32  73]]\n",
      "99\n",
      "-43\n"
     ]
    }
   ],
   "source": [
    "arr1=np.array(np.random.randint(-50,100,(3,3)))\n",
    "print(arr1)\n",
    "\n",
    "max_arr=arr1.max()\n",
    "print(max_arr)\n",
    "\n",
    "min_arr=arr1.min()\n",
    "print(min_arr)"
   ]
  },
  {
   "cell_type": "markdown",
   "metadata": {},
   "source": [
    "Create a random vector of size 30 and find the mean value.\n"
   ]
  },
  {
   "cell_type": "code",
   "execution_count": 44,
   "metadata": {},
   "outputs": [
    {
     "name": "stdout",
     "output_type": "stream",
     "text": [
      "[98 30 52  8 41 66 23 49 85 22 71 66 15 63 91 93 55 67 81 77 77 57 47  6\n",
      "  1 20 24 71 59 89]\n",
      "53.46666666666667\n"
     ]
    }
   ],
   "source": [
    "vector=np.random.randint(0,100,30)\n",
    "print(vector)\n",
    "\n",
    "mean_val=vector.mean()\n",
    "print(mean_val)"
   ]
  },
  {
   "cell_type": "markdown",
   "metadata": {},
   "source": [
    "Normalize a 5x5 random matrix.\n"
   ]
  },
  {
   "cell_type": "code",
   "execution_count": 47,
   "metadata": {},
   "outputs": [
    {
     "name": "stdout",
     "output_type": "stream",
     "text": [
      "[[0.55555556 0.77777778 0.88888889 0.66666667 0.44444444]\n",
      " [0.22222222 0.66666667 0.         0.22222222 0.11111111]\n",
      " [0.88888889 0.33333333 0.11111111 0.22222222 1.        ]\n",
      " [0.22222222 0.88888889 0.88888889 0.77777778 0.11111111]\n",
      " [0.55555556 0.66666667 0.66666667 1.         0.22222222]]\n"
     ]
    }
   ],
   "source": [
    "matrix=np.array(np.random.randint(0,10,(5,5)))\n",
    "matrix\n",
    "#used a min-max normalization method\n",
    "matrix_normalized = (matrix - np.min(matrix)) / (np.max(matrix) - np.min(matrix))\n",
    "print(matrix_normalized)"
   ]
  },
  {
   "cell_type": "markdown",
   "metadata": {},
   "source": [
    "Multiply a 5x3 matrix by a 3x2 matrix (real matrix product).\n"
   ]
  },
  {
   "cell_type": "code",
   "execution_count": 62,
   "metadata": {},
   "outputs": [
    {
     "name": "stdout",
     "output_type": "stream",
     "text": [
      "[[131 106]\n",
      " [128 109]\n",
      " [ 59  45]\n",
      " [ 83  65]\n",
      " [118  94]]\n",
      "\n",
      "[[131 106]\n",
      " [128 109]\n",
      " [ 59  45]\n",
      " [ 83  65]\n",
      " [118  94]]\n"
     ]
    }
   ],
   "source": [
    "m1=np.array(np.random.randint(1,11,(5,3)))\n",
    "m1\n",
    "\n",
    "m2=np.array(np.random.randint(3,8,(3,2)))\n",
    "m2\n",
    "\n",
    "product=m1@m2  # @ can be used to calculate the dot product of two matrices\n",
    "print(product)\n",
    "print()\n",
    "product2=np.dot(m1,m2)  # or we can use the np.dot(A,B) method\n",
    "print(product2)\n"
   ]
  },
  {
   "cell_type": "markdown",
   "metadata": {},
   "source": [
    "Create two 3x3 matrices and compute their dot product.\n"
   ]
  },
  {
   "cell_type": "code",
   "execution_count": 75,
   "metadata": {},
   "outputs": [
    {
     "name": "stdout",
     "output_type": "stream",
     "text": [
      "[[  1.89862819  -2.97601756  -5.77456343]\n",
      " [  4.01342507  -9.27029945 -12.98596545]\n",
      " [  6.12822195 -15.56458133 -20.19736746]]\n"
     ]
    }
   ],
   "source": [
    "a=np.array(np.arange(1,10).reshape(3,3))\n",
    "b=np.array(np.random.randn(3,3))\n",
    "\n",
    "dot_product=np.dot(a,b)\n",
    "print(dot_product)"
   ]
  },
  {
   "cell_type": "markdown",
   "metadata": {},
   "source": [
    "Given a 4x4 matrix, find its transpose.\n"
   ]
  },
  {
   "cell_type": "code",
   "execution_count": 113,
   "metadata": {},
   "outputs": [
    {
     "name": "stdout",
     "output_type": "stream",
     "text": [
      "Original\n",
      " [[  1   7  14  20]\n",
      " [ 27  34  40  47]\n",
      " [ 53  60  67  73]\n",
      " [ 80  86  93 100]]\n",
      "[[  1  27  53  80]\n",
      " [  7  34  60  86]\n",
      " [ 14  40  67  93]\n",
      " [ 20  47  73 100]]\n",
      "Transpose\n",
      " [[  1  27  53  80]\n",
      " [  7  34  60  86]\n",
      " [ 14  40  67  93]\n",
      " [ 20  47  73 100]]\n"
     ]
    }
   ],
   "source": [
    "matr=np.array(np.linspace(1,100,16).reshape(4,4),dtype=int)\n",
    "print(\"Original\\n\", matr)\n",
    "trans=np.transpose(matr)\n",
    "print('Transpose\\n', trans)"
   ]
  },
  {
   "cell_type": "markdown",
   "metadata": {},
   "source": [
    "Create a 3x3 matrix and calculate its determinant.\n"
   ]
  },
  {
   "cell_type": "code",
   "execution_count": 84,
   "metadata": {},
   "outputs": [
    {
     "name": "stdout",
     "output_type": "stream",
     "text": [
      "3902.9999999999995\n"
     ]
    }
   ],
   "source": [
    "m=np.array([[1,2,3],[4,23,45],[234,32,3]])\n",
    "\n",
    "determinant=np.linalg.det(m)\n",
    "print(determinant)"
   ]
  },
  {
   "cell_type": "markdown",
   "metadata": {},
   "source": [
    "Create two matrices ( A ) (3x4) and ( B ) (4x3), and compute the matrix product ( A \\cdot B ).\n"
   ]
  },
  {
   "cell_type": "code",
   "execution_count": 92,
   "metadata": {},
   "outputs": [
    {
     "name": "stdout",
     "output_type": "stream",
     "text": [
      "[[ 20  30  40]\n",
      " [ 28  54  80]\n",
      " [ 36  78 120]]\n"
     ]
    }
   ],
   "source": [
    "A=np.array(np.arange(1,13).reshape(3,4))\n",
    "B=np.array(np.arange(-4,8).reshape(4,3))\n",
    "\n",
    "mat_product=np.matmul(A,B)\n",
    "print(mat_product)"
   ]
  },
  {
   "cell_type": "markdown",
   "metadata": {},
   "source": [
    "Create a 3x3 random matrix and a 3-element column vector. Compute the matrix-vector product.\n"
   ]
  },
  {
   "cell_type": "code",
   "execution_count": 98,
   "metadata": {},
   "outputs": [
    {
     "name": "stdout",
     "output_type": "stream",
     "text": [
      "[266 263 421]\n"
     ]
    }
   ],
   "source": [
    "a=np.array(np.random.randint(1,100,(3,3)))\n",
    "vector=np.array([1,2,3])\n",
    "\n",
    "product=a@vector\n",
    "print(product)"
   ]
  },
  {
   "cell_type": "markdown",
   "metadata": {},
   "source": [
    "Solve the linear system ( Ax = b ) where ( A ) is a 3x3 matrix, and ( b ) is a 3x1 column vector.\n"
   ]
  },
  {
   "cell_type": "code",
   "execution_count": 106,
   "metadata": {},
   "outputs": [
    {
     "name": "stdout",
     "output_type": "stream",
     "text": [
      "[[ 1.97647059]\n",
      " [ 0.54117647]\n",
      " [-1.36470588]]\n",
      "[[ 1.97647059]\n",
      " [ 0.54117647]\n",
      " [-1.36470588]]\n"
     ]
    }
   ],
   "source": [
    "a=np.random.randint(1,10,(3,3))\n",
    "b=np.random.randint(1,5,(3,1))\n",
    "#Ax=b\n",
    "inv_a=np.linalg.inv(a)\n",
    "#x=b*A^(-1)\n",
    "x=np.dot(inv_a,b)\n",
    "print(x)\n",
    "\n",
    "#second way\n",
    "\n",
    "x1=np.linalg.solve(a,b)\n",
    "print(x1)"
   ]
  },
  {
   "cell_type": "markdown",
   "metadata": {},
   "source": [
    "Given a 5x5 matrix, find the row-wise and column-wise sums.\n"
   ]
  },
  {
   "cell_type": "code",
   "execution_count": 110,
   "metadata": {},
   "outputs": [
    {
     "name": "stdout",
     "output_type": "stream",
     "text": [
      "[[4 2 1 3 3]\n",
      " [7 4 4 3 6]\n",
      " [6 6 7 8 5]\n",
      " [1 5 4 4 4]\n",
      " [7 5 1 9 1]]\n",
      "[13 24 32 18 23]\n",
      "[25 22 17 27 19]\n"
     ]
    }
   ],
   "source": [
    "matrix=np.random.randint(1,10,(5,5))\n",
    "print(matrix)\n",
    "row_wise=matrix.sum(axis=1)\n",
    "print(row_wise)\n",
    "\n",
    "col_wise=matrix.sum(axis=0)\n",
    "print(col_wise)"
   ]
  },
  {
   "cell_type": "code",
   "execution_count": null,
   "metadata": {},
   "outputs": [],
   "source": []
  }
 ],
 "metadata": {
  "kernelspec": {
   "display_name": "Python 3",
   "language": "python",
   "name": "python3"
  },
  "language_info": {
   "codemirror_mode": {
    "name": "ipython",
    "version": 3
   },
   "file_extension": ".py",
   "mimetype": "text/x-python",
   "name": "python",
   "nbconvert_exporter": "python",
   "pygments_lexer": "ipython3",
   "version": "3.11.0"
  }
 },
 "nbformat": 4,
 "nbformat_minor": 2
}
