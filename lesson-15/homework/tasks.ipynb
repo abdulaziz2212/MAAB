{
 "cells": [
  {
   "cell_type": "code",
   "execution_count": 115,
   "metadata": {},
   "outputs": [],
   "source": [
    "import numpy as np"
   ]
  },
  {
   "cell_type": "markdown",
   "metadata": {},
   "source": [
    "Create a vector with values ranging from 10 to 49."
   ]
  },
  {
   "cell_type": "code",
   "execution_count": 116,
   "metadata": {},
   "outputs": [
    {
     "data": {
      "text/plain": [
       "array([10, 11, 12, 13, 14, 15, 16, 17, 18, 19, 20, 21, 22, 23, 24, 25, 26,\n",
       "       27, 28, 29, 30, 31, 32, 33, 34, 35, 36, 37, 38, 39, 40, 41, 42, 43,\n",
       "       44, 45, 46, 47, 48, 49])"
      ]
     },
     "execution_count": 116,
     "metadata": {},
     "output_type": "execute_result"
    }
   ],
   "source": [
    "vector=np.arange(10,50)\n",
    "vector"
   ]
  },
  {
   "cell_type": "markdown",
   "metadata": {},
   "source": [
    "Create a 3x3 matrix with values ranging from 0 to 8.\n"
   ]
  },
  {
   "cell_type": "code",
   "execution_count": 117,
   "metadata": {},
   "outputs": [
    {
     "data": {
      "text/plain": [
       "array([[0, 1, 2],\n",
       "       [3, 4, 5],\n",
       "       [6, 7, 8]])"
      ]
     },
     "execution_count": 117,
     "metadata": {},
     "output_type": "execute_result"
    }
   ],
   "source": [
    "matrix=np.array(np.arange(0,9).reshape(3,3))\n",
    "matrix"
   ]
  },
  {
   "cell_type": "markdown",
   "metadata": {},
   "source": [
    "Create a 3x3 identity matrix.\n"
   ]
  },
  {
   "cell_type": "code",
   "execution_count": 118,
   "metadata": {},
   "outputs": [
    {
     "data": {
      "text/plain": [
       "array([[1, 0, 0],\n",
       "       [0, 1, 0],\n",
       "       [0, 0, 1]])"
      ]
     },
     "execution_count": 118,
     "metadata": {},
     "output_type": "execute_result"
    }
   ],
   "source": [
    "id_matrix=np.eye(3,3,dtype=int)\n",
    "id_matrix"
   ]
  },
  {
   "cell_type": "markdown",
   "metadata": {},
   "source": [
    "Create a 3x3x3 array with random values.\n"
   ]
  },
  {
   "cell_type": "code",
   "execution_count": 119,
   "metadata": {},
   "outputs": [
    {
     "data": {
      "text/plain": [
       "array([[[ 0.94905008, -0.67497293,  0.79956355],\n",
       "        [-1.20526775, -0.65549843, -2.30550831],\n",
       "        [ 1.98937981, -0.38180766, -0.16286755]],\n",
       "\n",
       "       [[ 0.20206766,  0.60133334,  1.09344304],\n",
       "        [-0.85223286,  0.30924165,  0.76315639],\n",
       "        [ 1.58892021, -1.06285196,  1.57503694]],\n",
       "\n",
       "       [[ 0.59758185, -0.69557755,  1.05637458],\n",
       "        [-0.86603228,  0.79847238, -0.18066052],\n",
       "        [-1.72511328,  0.10265193, -0.73083846]]])"
      ]
     },
     "execution_count": 119,
     "metadata": {},
     "output_type": "execute_result"
    }
   ],
   "source": [
    "arr=np.array(np.random.randn(3,3,3))\n",
    "arr\n"
   ]
  },
  {
   "cell_type": "markdown",
   "metadata": {},
   "source": [
    "Create a 10x10 array with random values and find the minimum and maximum values.\n"
   ]
  },
  {
   "cell_type": "code",
   "execution_count": 120,
   "metadata": {},
   "outputs": [
    {
     "name": "stdout",
     "output_type": "stream",
     "text": [
      "[[-18 -45 -13]\n",
      " [ -4 -29  12]\n",
      " [ 67  30 -14]]\n",
      "67\n",
      "-45\n"
     ]
    }
   ],
   "source": [
    "arr1=np.array(np.random.randint(-50,100,(3,3)))\n",
    "print(arr1)\n",
    "\n",
    "max_arr=arr1.max()\n",
    "print(max_arr)\n",
    "\n",
    "min_arr=arr1.min()\n",
    "print(min_arr)"
   ]
  },
  {
   "cell_type": "markdown",
   "metadata": {},
   "source": [
    "Create a random vector of size 30 and find the mean value.\n"
   ]
  },
  {
   "cell_type": "code",
   "execution_count": 121,
   "metadata": {},
   "outputs": [
    {
     "name": "stdout",
     "output_type": "stream",
     "text": [
      "[86 23 26 82 60  2 48 72 88 26 94 81 80 79 69 10 60 11 36 18 82 32 71 30\n",
      " 60 76 15 48 27 89]\n",
      "52.7\n"
     ]
    }
   ],
   "source": [
    "vector=np.random.randint(0,100,30)\n",
    "print(vector)\n",
    "\n",
    "mean_val=vector.mean()\n",
    "print(mean_val)"
   ]
  },
  {
   "cell_type": "markdown",
   "metadata": {},
   "source": [
    "Normalize a 5x5 random matrix.\n"
   ]
  },
  {
   "cell_type": "code",
   "execution_count": 122,
   "metadata": {},
   "outputs": [
    {
     "name": "stdout",
     "output_type": "stream",
     "text": [
      "[[1.         0.77777778 0.77777778 0.55555556 0.55555556]\n",
      " [0.55555556 0.         0.22222222 0.         0.        ]\n",
      " [0.44444444 0.66666667 0.55555556 0.77777778 0.22222222]\n",
      " [0.55555556 0.77777778 0.55555556 0.22222222 0.33333333]\n",
      " [0.11111111 0.33333333 0.66666667 1.         0.44444444]]\n"
     ]
    }
   ],
   "source": [
    "matrix=np.array(np.random.randint(0,10,(5,5)))\n",
    "matrix\n",
    "#used a min-max normalization method\n",
    "matrix_normalized = (matrix - np.min(matrix)) / (np.max(matrix) - np.min(matrix))\n",
    "print(matrix_normalized)"
   ]
  },
  {
   "cell_type": "markdown",
   "metadata": {},
   "source": [
    "Multiply a 5x3 matrix by a 3x2 matrix (real matrix product).\n"
   ]
  },
  {
   "cell_type": "code",
   "execution_count": 123,
   "metadata": {},
   "outputs": [
    {
     "name": "stdout",
     "output_type": "stream",
     "text": [
      "[[ 94  72]\n",
      " [ 77  62]\n",
      " [107  95]\n",
      " [ 94  89]\n",
      " [ 65  48]]\n",
      "\n",
      "[[ 94  72]\n",
      " [ 77  62]\n",
      " [107  95]\n",
      " [ 94  89]\n",
      " [ 65  48]]\n"
     ]
    }
   ],
   "source": [
    "m1=np.array(np.random.randint(1,11,(5,3)))\n",
    "m1\n",
    "\n",
    "m2=np.array(np.random.randint(3,8,(3,2)))\n",
    "m2\n",
    "\n",
    "product=m1@m2  # @ can be used to calculate the dot product of two matrices\n",
    "print(product)\n",
    "print()\n",
    "product2=np.dot(m1,m2)  # or we can use the np.dot(A,B) method\n",
    "print(product2)\n"
   ]
  },
  {
   "cell_type": "markdown",
   "metadata": {},
   "source": [
    "Create two 3x3 matrices and compute their dot product.\n"
   ]
  },
  {
   "cell_type": "code",
   "execution_count": 124,
   "metadata": {},
   "outputs": [
    {
     "name": "stdout",
     "output_type": "stream",
     "text": [
      "[[-14.28953746  -3.85404136   2.68880765]\n",
      " [-31.39929391  -7.95873915   7.10036813]\n",
      " [-48.50905036 -12.06343694  11.51192862]]\n"
     ]
    }
   ],
   "source": [
    "a=np.array(np.arange(1,10).reshape(3,3))\n",
    "b=np.array(np.random.randn(3,3))\n",
    "\n",
    "dot_product=np.dot(a,b)\n",
    "print(dot_product)"
   ]
  },
  {
   "cell_type": "markdown",
   "metadata": {},
   "source": [
    "Given a 4x4 matrix, find its transpose.\n"
   ]
  },
  {
   "cell_type": "code",
   "execution_count": 125,
   "metadata": {},
   "outputs": [
    {
     "name": "stdout",
     "output_type": "stream",
     "text": [
      "Original\n",
      " [[  1   7  14  20]\n",
      " [ 27  34  40  47]\n",
      " [ 53  60  67  73]\n",
      " [ 80  86  93 100]]\n",
      "Transpose\n",
      " [[  1  27  53  80]\n",
      " [  7  34  60  86]\n",
      " [ 14  40  67  93]\n",
      " [ 20  47  73 100]]\n"
     ]
    }
   ],
   "source": [
    "matr=np.array(np.linspace(1,100,16).reshape(4,4),dtype=int)\n",
    "print(\"Original\\n\", matr)\n",
    "trans=np.transpose(matr)\n",
    "print('Transpose\\n', trans)"
   ]
  },
  {
   "cell_type": "markdown",
   "metadata": {},
   "source": [
    "Create a 3x3 matrix and calculate its determinant.\n"
   ]
  },
  {
   "cell_type": "code",
   "execution_count": 126,
   "metadata": {},
   "outputs": [
    {
     "name": "stdout",
     "output_type": "stream",
     "text": [
      "3902.9999999999995\n"
     ]
    }
   ],
   "source": [
    "m=np.array([[1,2,3],[4,23,45],[234,32,3]])\n",
    "\n",
    "determinant=np.linalg.det(m)\n",
    "print(determinant)"
   ]
  },
  {
   "cell_type": "markdown",
   "metadata": {},
   "source": [
    "Create two matrices ( A ) (3x4) and ( B ) (4x3), and compute the matrix product ( A \\cdot B ).\n"
   ]
  },
  {
   "cell_type": "code",
   "execution_count": 127,
   "metadata": {},
   "outputs": [
    {
     "name": "stdout",
     "output_type": "stream",
     "text": [
      "[[ 20  30  40]\n",
      " [ 28  54  80]\n",
      " [ 36  78 120]]\n"
     ]
    }
   ],
   "source": [
    "A=np.array(np.arange(1,13).reshape(3,4))\n",
    "B=np.array(np.arange(-4,8).reshape(4,3))\n",
    "\n",
    "mat_product=np.matmul(A,B)\n",
    "print(mat_product)"
   ]
  },
  {
   "cell_type": "markdown",
   "metadata": {},
   "source": [
    "Create a 3x3 random matrix and a 3-element column vector. Compute the matrix-vector product.\n"
   ]
  },
  {
   "cell_type": "code",
   "execution_count": 128,
   "metadata": {},
   "outputs": [
    {
     "name": "stdout",
     "output_type": "stream",
     "text": [
      "[463 166 264]\n"
     ]
    }
   ],
   "source": [
    "a=np.array(np.random.randint(1,100,(3,3)))\n",
    "vector=np.array([1,2,3])\n",
    "\n",
    "product=a@vector\n",
    "print(product)"
   ]
  },
  {
   "cell_type": "markdown",
   "metadata": {},
   "source": [
    "Solve the linear system ( Ax = b ) where ( A ) is a 3x3 matrix, and ( b ) is a 3x1 column vector.\n"
   ]
  },
  {
   "cell_type": "code",
   "execution_count": 129,
   "metadata": {},
   "outputs": [
    {
     "name": "stdout",
     "output_type": "stream",
     "text": [
      "[[ 0.86206897]\n",
      " [ 0.20689655]\n",
      " [-0.24137931]]\n",
      "[[ 0.86206897]\n",
      " [ 0.20689655]\n",
      " [-0.24137931]]\n"
     ]
    }
   ],
   "source": [
    "a=np.random.randint(1,10,(3,3))\n",
    "b=np.random.randint(1,5,(3,1))\n",
    "#Ax=b\n",
    "inv_a=np.linalg.inv(a)\n",
    "#x=b*A^(-1)\n",
    "x=np.dot(inv_a,b)\n",
    "print(x)\n",
    "\n",
    "#second way\n",
    "\n",
    "x1=np.linalg.solve(a,b)\n",
    "print(x1)"
   ]
  },
  {
   "cell_type": "markdown",
   "metadata": {},
   "source": [
    "Given a 5x5 matrix, find the row-wise and column-wise sums.\n"
   ]
  },
  {
   "cell_type": "code",
   "execution_count": 130,
   "metadata": {},
   "outputs": [
    {
     "name": "stdout",
     "output_type": "stream",
     "text": [
      "[[1 8 8 6 2]\n",
      " [7 7 3 4 7]\n",
      " [8 9 9 3 5]\n",
      " [1 1 7 8 7]\n",
      " [3 6 8 2 8]]\n",
      "[25 28 34 24 27]\n",
      "[20 31 35 23 29]\n"
     ]
    }
   ],
   "source": [
    "matrix=np.random.randint(1,10,(5,5))\n",
    "print(matrix)\n",
    "row_wise=matrix.sum(axis=1)\n",
    "print(row_wise)\n",
    "\n",
    "col_wise=matrix.sum(axis=0)\n",
    "print(col_wise)"
   ]
  },
  {
   "cell_type": "code",
   "execution_count": null,
   "metadata": {},
   "outputs": [],
   "source": []
  }
 ],
 "metadata": {
  "kernelspec": {
   "display_name": "Python 3",
   "language": "python",
   "name": "python3"
  },
  "language_info": {
   "codemirror_mode": {
    "name": "ipython",
    "version": 3
   },
   "file_extension": ".py",
   "mimetype": "text/x-python",
   "name": "python",
   "nbconvert_exporter": "python",
   "pygments_lexer": "ipython3",
   "version": "3.11.0"
  }
 },
 "nbformat": 4,
 "nbformat_minor": 2
}
