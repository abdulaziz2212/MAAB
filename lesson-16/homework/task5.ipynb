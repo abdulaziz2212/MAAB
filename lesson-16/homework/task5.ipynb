{
 "cells": [
  {
   "cell_type": "code",
   "execution_count": 2,
   "metadata": {},
   "outputs": [],
   "source": [
    "from PIL import Image\n",
    "import numpy as np"
   ]
  },
  {
   "cell_type": "code",
   "execution_count": 5,
   "metadata": {},
   "outputs": [
    {
     "name": "stdout",
     "output_type": "stream",
     "text": [
      "RGB\n",
      "[[[ 34  98   2]\n",
      "  [ 34  98   2]\n",
      "  [ 34  98   2]\n",
      "  ...\n",
      "  [ 40  75  19]\n",
      "  [ 40  75  19]\n",
      "  [ 40  75  19]]\n",
      "\n",
      " [[ 34  98   2]\n",
      "  [ 34  98   2]\n",
      "  [ 34  98   2]\n",
      "  ...\n",
      "  [ 37  72  16]\n",
      "  [ 37  72  16]\n",
      "  [ 37  72  16]]\n",
      "\n",
      " [[ 34  98   2]\n",
      "  [ 34  98   2]\n",
      "  [ 34  98   2]\n",
      "  ...\n",
      "  [ 35  70  14]\n",
      "  [ 35  70  14]\n",
      "  [ 35  70  14]]\n",
      "\n",
      " ...\n",
      "\n",
      " [[ 21  75   0]\n",
      "  [ 21  75   0]\n",
      "  [ 21  75   0]\n",
      "  ...\n",
      "  [144 110 111]\n",
      "  [139 105 106]\n",
      "  [137 103 104]]\n",
      "\n",
      " [[ 21  75   0]\n",
      "  [ 21  75   0]\n",
      "  [ 21  75   0]\n",
      "  ...\n",
      "  [147 113 112]\n",
      "  [141 107 106]\n",
      "  [138 104 103]]\n",
      "\n",
      " [[ 21  75   0]\n",
      "  [ 21  75   0]\n",
      "  [ 21  75   0]\n",
      "  ...\n",
      "  [151 117 116]\n",
      "  [145 111 110]\n",
      "  [143 109 108]]]\n"
     ]
    }
   ],
   "source": [
    "with Image.open('birds.jpg') as img:\n",
    "    print(img.mode)\n",
    "    img_arr=np.array(img)\n",
    "    print(img_arr)"
   ]
  },
  {
   "cell_type": "code",
   "execution_count": 10,
   "metadata": {},
   "outputs": [],
   "source": [
    "#flipped image\n",
    "flip_arr=img_arr[::-1,::-1, :]\n",
    "flipped_birds=Image.fromarray(flip_arr)\n",
    "flipped_birds.show()\n",
    "flipped_birds.save('flipped_birds.jpg')"
   ]
  },
  {
   "cell_type": "code",
   "execution_count": 17,
   "metadata": {},
   "outputs": [],
   "source": [
    "uniform_noise=np.random.uniform(-30,30,img_arr.shape)\n",
    "noise_array=np.clip(img_arr+uniform_noise,0,255).astype(np.uint8)\n",
    "noise_img=Image.fromarray(noise_array)\n",
    "noise_img.show()\n",
    "noise_img.save('noise_image.jpg')"
   ]
  },
  {
   "cell_type": "code",
   "execution_count": 25,
   "metadata": {},
   "outputs": [],
   "source": [
    "increase_value=30\n",
    "\n",
    "img_arr[:,:,0]=np.clip(img_arr[:,:,0]+increase_value, 0 , 255)\n",
    "brightened_img=Image.fromarray(img_arr.astype(np.uint8))\n",
    "brightened_img.show()\n",
    "brightened_img.save('brightened_img.jpg')"
   ]
  },
  {
   "cell_type": "code",
   "execution_count": 29,
   "metadata": {},
   "outputs": [],
   "source": [
    "height,width,_=img_arr.shape\n",
    "mask_size=100\n",
    "start_x=(width-mask_size)//2\n",
    "start_y=(height-mask_size)//2\n",
    "\n",
    "img_arr[start_y:start_y+mask_size, start_x:start_x+mask_size]=[0,0,0]\n",
    "\n",
    "masked_img=Image.fromarray(img_arr)\n",
    "\n",
    "masked_img.show()\n",
    "masked_img.save('Masked_image.jpg')"
   ]
  },
  {
   "cell_type": "code",
   "execution_count": null,
   "metadata": {},
   "outputs": [],
   "source": []
  }
 ],
 "metadata": {
  "kernelspec": {
   "display_name": "Python 3",
   "language": "python",
   "name": "python3"
  },
  "language_info": {
   "codemirror_mode": {
    "name": "ipython",
    "version": 3
   },
   "file_extension": ".py",
   "mimetype": "text/x-python",
   "name": "python",
   "nbconvert_exporter": "python",
   "pygments_lexer": "ipython3",
   "version": "3.11.0"
  }
 },
 "nbformat": 4,
 "nbformat_minor": 2
}
