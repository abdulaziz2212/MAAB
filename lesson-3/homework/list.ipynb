{
 "cells": [
  {
   "cell_type": "code",
   "execution_count": null,
   "metadata": {},
   "outputs": [],
   "source": [
    "#list1\n",
    "def word_counter(lst,word):\n",
    "    return lst.count(word)\n"
   ]
  },
  {
   "cell_type": "code",
   "execution_count": null,
   "metadata": {},
   "outputs": [],
   "source": [
    "#list2\n",
    "def sum_lst(lst):\n",
    "    return sum(lst)"
   ]
  },
  {
   "cell_type": "code",
   "execution_count": null,
   "metadata": {},
   "outputs": [],
   "source": [
    "#list3\n",
    "def max_list(lst):\n",
    "    return max(lst)"
   ]
  },
  {
   "cell_type": "code",
   "execution_count": null,
   "metadata": {},
   "outputs": [],
   "source": [
    "#list4\n",
    "def min_list(lst):\n",
    "    return min(list)"
   ]
  },
  {
   "cell_type": "code",
   "execution_count": null,
   "metadata": {},
   "outputs": [],
   "source": [
    "#list5\n",
    "def checker(lst,elem):\n",
    "    return elem in lst"
   ]
  },
  {
   "cell_type": "code",
   "execution_count": null,
   "metadata": {},
   "outputs": [],
   "source": [
    "#list6\n",
    "def first_list(lst):\n",
    "    return lst[0] if list else None"
   ]
  },
  {
   "cell_type": "code",
   "execution_count": null,
   "metadata": {},
   "outputs": [],
   "source": [
    "#list7\n",
    "def last_list(lst):\n",
    "    return lst[-1] if list else None"
   ]
  },
  {
   "cell_type": "code",
   "execution_count": null,
   "metadata": {},
   "outputs": [],
   "source": [
    "#list8\n",
    "def slice(lst):\n",
    "    return lst[:3]"
   ]
  },
  {
   "cell_type": "code",
   "execution_count": null,
   "metadata": {},
   "outputs": [],
   "source": [
    "#list9\n",
    "def reverse_list(lst):\n",
    "    return lst[::-1]"
   ]
  },
  {
   "cell_type": "code",
   "execution_count": null,
   "metadata": {},
   "outputs": [],
   "source": [
    "#list10\n",
    "def sorter(lst):\n",
    "    return sorted(lst)"
   ]
  },
  {
   "cell_type": "code",
   "execution_count": null,
   "metadata": {},
   "outputs": [],
   "source": [
    "# Task 11: Remove Duplicates\n",
    "def remove_duplicates(lst):\n",
    "    return list(set(lst))\n",
    "\n",
    "# Task 12: Insert Element\n",
    "def insert_element(lst, index, element):\n",
    "    lst.insert(index, element)\n",
    "    return lst\n",
    "\n",
    "# Task 13: Index of Element\n",
    "def index_of_element(lst, element):\n",
    "    return lst.index(element) if element in lst else -1\n",
    "\n",
    "# Task 14: Check for Empty List\n",
    "def is_empty_list(lst):\n",
    "    return len(lst) == 0\n",
    "\n",
    "# Task 15: Count Even Numbers\n",
    "def count_even_numbers(lst):\n",
    "    return sum(1 for x in lst if x % 2 == 0)\n",
    "\n",
    "# Task 16: Count Odd Numbers\n",
    "def count_odd_numbers(lst):\n",
    "    return sum(1 for x in lst if x % 2 != 0)\n",
    "\n",
    "# Task 17: Concatenate Lists\n",
    "def concatenate_lists(lst1, lst2):\n",
    "    return lst1 + lst2\n",
    "\n",
    "# Task 18: Find Sublist\n",
    "def find_sublist(lst, sublist):\n",
    "    n, m = len(lst), len(sublist)\n",
    "    for i in range(n - m + 1):\n",
    "        if lst[i:i + m] == sublist:\n",
    "            return True\n",
    "    return False\n",
    "\n",
    "# Task 19: Replace Element\n",
    "def replace_element(lst, old, new):\n",
    "    try:\n",
    "        index = lst.index(old)\n",
    "        lst[index] = new\n",
    "    except ValueError:\n",
    "        pass\n",
    "    return lst\n",
    "\n",
    "# Task 20: Find Second Largest\n",
    "def second_largest(lst):\n",
    "    unique_lst = list(set(lst))\n",
    "    if len(unique_lst) < 2:\n",
    "        return None\n",
    "    unique_lst.sort(reverse=True)\n",
    "    return unique_lst[1]\n",
    "\n",
    "# Task 21: Find Second Smallest\n",
    "def second_smallest(lst):\n",
    "    unique_lst = list(set(lst))\n",
    "    if len(unique_lst) < 2:\n",
    "        return None\n",
    "    unique_lst.sort()\n",
    "    return unique_lst[1]\n",
    "\n",
    "# Task 22: Filter Even Numbers\n",
    "def filter_even_numbers(lst):\n",
    "    return [x for x in lst if x % 2 == 0]\n",
    "\n",
    "# Task 23: Filter Odd Numbers\n",
    "def filter_odd_numbers(lst):\n",
    "    return [x for x in lst if x % 2 != 0]\n",
    "\n",
    "# Task 24: List Length\n",
    "def list_length(lst):\n",
    "    return len(lst)\n",
    "\n",
    "# Task 25: Create a Copy\n",
    "def create_copy(lst):\n",
    "    return lst[:]\n",
    "\n",
    "# Task 26: Get Middle Element\n",
    "def get_middle_element(lst):\n",
    "    n = len(lst)\n",
    "    if n == 0:\n",
    "        return None\n",
    "    mid = n // 2\n",
    "    return lst[mid] if n % 2 != 0 else (lst[mid - 1], lst[mid])\n",
    "\n",
    "# Task 27: Find Maximum of Sublist\n",
    "def max_of_sublist(lst, start, end):\n",
    "    return max(lst[start:end]) if lst[start:end] else None\n",
    "\n",
    "# Task 28: Find Minimum of Sublist\n",
    "def min_of_sublist(lst, start, end):\n",
    "    return min(lst[start:end]) if lst[start:end] else None\n",
    "\n",
    "# Task 29: Remove Element by Index\n",
    "def remove_by_index(lst, index):\n",
    "    if 0 <= index < len(lst):\n",
    "        lst.pop(index)\n",
    "    return lst\n",
    "\n",
    "# Task 30: Check if List is Sorted\n",
    "def is_sorted(lst):\n",
    "    return lst == sorted(lst)\n",
    "\n",
    "# Task 31: Repeat Elements\n",
    "def repeat_elements(lst, n):\n",
    "    return [x for x in lst for _ in range(n)]\n",
    "\n",
    "# Task 32: Merge and Sort\n",
    "def merge_and_sort(lst1, lst2):\n",
    "    return sorted(lst1 + lst2)\n",
    "\n",
    "# Task 33: Find All Indices\n",
    "def find_all_indices(lst, element):\n",
    "    return [i for i, x in enumerate(lst) if x == element]\n",
    "\n",
    "# Task 34: Rotate List\n",
    "def rotate_list(lst, k):\n",
    "    k = k % len(lst) if lst else 0\n",
    "    return lst[-k:] + lst[:-k]\n",
    "\n",
    "# Task 35: Create Range List\n",
    "def create_range_list(start, end):\n",
    "    return list(range(start, end + 1))\n",
    "\n",
    "# Task 36: Sum of Positive Numbers\n",
    "def sum_of_positive_numbers(lst):\n",
    "    return sum(x for x in lst if x > 0)\n",
    "\n",
    "# Task 37: Sum of Negative Numbers\n",
    "def sum_of_negative_numbers(lst):\n",
    "    return sum(x for x in lst if x < 0)\n",
    "\n",
    "# Task 38: Check Palindrome\n",
    "def is_palindrome(lst):\n",
    "    return lst == lst[::-1]\n",
    "\n",
    "# Task 39: Create Nested List\n",
    "def create_nested_list(lst, n):\n",
    "    return [lst[i:i + n] for i in range(0, len(lst), n)]\n",
    "\n",
    "# Task 40: Get Unique Elements in Order\n",
    "def unique_elements_in_order(lst):\n",
    "    seen = set()\n",
    "    return [x for x in lst if not (x in seen or seen.add(x))]\n"
   ]
  },
  {
   "cell_type": "code",
   "execution_count": null,
   "metadata": {},
   "outputs": [],
   "source": []
  }
 ],
 "metadata": {
  "kernelspec": {
   "display_name": "Python 3",
   "language": "python",
   "name": "python3"
  },
  "language_info": {
   "name": "python",
   "version": "3.11.0"
  }
 },
 "nbformat": 4,
 "nbformat_minor": 2
}
